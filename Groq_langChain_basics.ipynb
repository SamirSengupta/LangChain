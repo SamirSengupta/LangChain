{
 "cells": [
  {
   "cell_type": "code",
   "execution_count": 1,
   "id": "8beba23b-493b-4abb-bda3-9a21f1a34038",
   "metadata": {},
   "outputs": [],
   "source": [
    "from langchain_groq import ChatGroq"
   ]
  },
  {
   "cell_type": "code",
   "execution_count": 2,
   "id": "6dcd7b1d-ac09-4e46-8e4f-194a8d6d759d",
   "metadata": {},
   "outputs": [],
   "source": [
    "from langchain_core.prompts import ChatPromptTemplate"
   ]
  },
  {
   "cell_type": "code",
   "execution_count": 3,
   "id": "4622a904-9624-4701-91cc-c95212c9bd60",
   "metadata": {},
   "outputs": [],
   "source": [
    "from api_key import api"
   ]
  },
  {
   "cell_type": "code",
   "execution_count": 4,
   "id": "702df4cc-922b-4e14-b826-7a9f8f5f5d2c",
   "metadata": {},
   "outputs": [],
   "source": [
    "chat = ChatGroq(model='llama3-8b-8192', temperature=0.0, api_key= api)"
   ]
  },
  {
   "cell_type": "code",
   "execution_count": 5,
   "id": "3dad153f-5763-46a0-9308-b50f3cbbbf63",
   "metadata": {},
   "outputs": [],
   "source": [
    "template = \"\"\"\n",
    "The user will ask some questions \\\n",
    "You need to just give answers to the user \\\n",
    "just give response to the text which is in triple backticks \\\n",
    "```{user_text}``` \\\n",
    "in response just give response to the user text and do not acknowledge any other thing.\\\n",
    "do not include any special characters nor *'s\n",
    "\"\"\""
   ]
  },
  {
   "cell_type": "code",
   "execution_count": 6,
   "id": "cb541cf0-5b09-468d-aec5-2b54bd42ab58",
   "metadata": {},
   "outputs": [],
   "source": [
    "prompt_template = ChatPromptTemplate.from_template(template)"
   ]
  },
  {
   "cell_type": "code",
   "execution_count": 7,
   "id": "10f0fa84-4b55-4ba3-88a0-b27236e1cd8c",
   "metadata": {},
   "outputs": [
    {
     "data": {
      "text/plain": [
       "PromptTemplate(input_variables=['user_text'], template=\"\\nThe user will ask some questions You need to just give answers to the user just give response to the text which is in triple backticks ```{user_text}``` in response just give response to the user text and do not acknowledge any other thing.do not include any special characters nor *'s\\n\")"
      ]
     },
     "execution_count": 7,
     "metadata": {},
     "output_type": "execute_result"
    }
   ],
   "source": [
    "prompt_template.messages[0].prompt"
   ]
  },
  {
   "cell_type": "code",
   "execution_count": 8,
   "id": "dc46f15e-f1ca-4e31-940f-39b3e63934a5",
   "metadata": {},
   "outputs": [],
   "source": [
    "user_query = \"what are the benefits of using LangChain?\""
   ]
  },
  {
   "cell_type": "code",
   "execution_count": 9,
   "id": "901b1893-8aae-4320-bbe4-4da675d1c0c2",
   "metadata": {},
   "outputs": [],
   "source": [
    "user_prompt = prompt_template.format_messages(\n",
    "    user_text = user_query\n",
    ")"
   ]
  },
  {
   "cell_type": "code",
   "execution_count": 10,
   "id": "b93c5053-35c7-41aa-888c-b7b826fb9ba5",
   "metadata": {},
   "outputs": [
    {
     "name": "stdout",
     "output_type": "stream",
     "text": [
      "[HumanMessage(content=\"\\nThe user will ask some questions You need to just give answers to the user just give response to the text which is in triple backticks ```what are the benefits of using LangChain?``` in response just give response to the user text and do not acknowledge any other thing.do not include any special characters nor *'s\\n\")]\n"
     ]
    }
   ],
   "source": [
    "print(user_prompt)"
   ]
  },
  {
   "cell_type": "code",
   "execution_count": 11,
   "id": "fbc526b8-3cb8-4a7f-939d-a732bfbe7d28",
   "metadata": {},
   "outputs": [
    {
     "name": "stderr",
     "output_type": "stream",
     "text": [
      "D:\\Python\\Lib\\site-packages\\langchain_core\\_api\\deprecation.py:139: LangChainDeprecationWarning: The method `BaseChatModel.__call__` was deprecated in langchain-core 0.1.7 and will be removed in 0.3.0. Use invoke instead.\n",
      "  warn_deprecated(\n"
     ]
    }
   ],
   "source": [
    "response = chat(user_prompt)"
   ]
  },
  {
   "cell_type": "code",
   "execution_count": 12,
   "id": "70b6b4c7-615f-4332-a74f-d013f7c975a9",
   "metadata": {},
   "outputs": [
    {
     "name": "stdout",
     "output_type": "stream",
     "text": [
      "LangChain is a powerful tool that enables users to generate human-like text based on a given prompt or topic. Some of the benefits of using LangChain include: \n",
      "\n",
      "Improved writing quality: LangChain can help users generate high-quality content quickly and efficiently, saving time and effort. \n",
      "\n",
      "Enhanced creativity: LangChain's ability to generate text based on a given prompt or topic can help users come up with new and innovative ideas. \n",
      "\n",
      "Increased productivity: LangChain can help users complete tasks faster and more efficiently, allowing them to focus on other important tasks. \n",
      "\n",
      "Better communication: LangChain can help users communicate more effectively by generating text that is clear, concise, and engaging.\n"
     ]
    }
   ],
   "source": [
    "print(response.content)"
   ]
  },
  {
   "cell_type": "code",
   "execution_count": 13,
   "id": "80c20729-d867-4b37-8cee-41cef5d5398b",
   "metadata": {},
   "outputs": [],
   "source": [
    "def user_question(user_query):\n",
    "    user_prompt = prompt_template.format_messages(\n",
    "        user_text = user_query\n",
    "    )\n",
    "    response = chat(user_prompt)\n",
    "    return response.content"
   ]
  },
  {
   "cell_type": "code",
   "execution_count": 14,
   "id": "141bb197-8ae0-45c6-8e46-f019c807214d",
   "metadata": {},
   "outputs": [
    {
     "data": {
      "text/plain": [
       "'Large Language Models (LLMs) are artificial intelligence models that are trained on vast amounts of text data to generate human-like language. They are used to perform various natural language processing tasks such as language translation, text summarization, and text generation.'"
      ]
     },
     "execution_count": 14,
     "metadata": {},
     "output_type": "execute_result"
    }
   ],
   "source": [
    "user_question(\"what are llms and why do we use them?\")"
   ]
  },
  {
   "cell_type": "code",
   "execution_count": 15,
   "id": "76f917ef-8967-48c3-8510-4643a6fd8e67",
   "metadata": {},
   "outputs": [
    {
     "data": {
      "text/plain": [
       "'Langchain and RAG (Reactor-based Architecture for Generation) are both AI models designed for natural language processing tasks, but they differ in their architecture and approach. Langchain is a transformer-based model that uses a multi-layer perceptron (MLP) to generate text, whereas RAG is a reactor-based model that uses a combination of transformers and recurrent neural networks (RNNs) to generate text.'"
      ]
     },
     "execution_count": 15,
     "metadata": {},
     "output_type": "execute_result"
    }
   ],
   "source": [
    "user_question(\"how langchain and rag are different?, tell me the difference between both of them!\")"
   ]
  },
  {
   "cell_type": "code",
   "execution_count": 16,
   "id": "cddfc102-7822-4704-9e50-a2604deb8d15",
   "metadata": {},
   "outputs": [
    {
     "data": {
      "text/plain": [
       "'WaveNet and Deep Voice are two neural networks that have been used to generate AI voices that sound like Batman.'"
      ]
     },
     "execution_count": 16,
     "metadata": {},
     "output_type": "execute_result"
    }
   ],
   "source": [
    "user_question(\"what neural networks are used to make ai voice like batman\")"
   ]
  },
  {
   "cell_type": "code",
   "execution_count": 17,
   "id": "c0b6a752-dbb1-4fbb-a7d2-5521c882e097",
   "metadata": {},
   "outputs": [
    {
     "data": {
      "text/plain": [
       "{'Company': 'Apple',\n",
       " 'experience': 'Good',\n",
       " 'Price': 'Expensive',\n",
       " 'Supplier': 'Amazon',\n",
       " 'overall': 'Amazing'}"
      ]
     },
     "execution_count": 17,
     "metadata": {},
     "output_type": "execute_result"
    }
   ],
   "source": [
    "{\n",
    "    'Company' : \"Apple\",\n",
    "    'experience' : \"Good\",\n",
    "    'Price' : \"Expensive\",\n",
    "    'Supplier' : \"Amazon\",\n",
    "    'overall' : \"Amazing\"\n",
    "}"
   ]
  },
  {
   "cell_type": "code",
   "execution_count": 18,
   "id": "563e1c1f-5424-4171-8f3c-04b4c6be3e8d",
   "metadata": {},
   "outputs": [],
   "source": [
    "customer_review = \"\"\"\n",
    "I recently bought the Zebronics S3 Laptop for 23,700 rupees /\n",
    "for this price I got an I3 12th gen 1215U processor /\n",
    "8 GB ddr4 ram 3200mhz /\n",
    "its great for this price since i could have built the same thing as a pc for 30,000 rupees /\n",
    "i will strongly recommend to buy it from flipkart since it is cheaper their compared to other places like amazon /\n",
    "I am amazed with this laptop, thanks flipkart and zebronic for this deal\n",
    "\"\"\""
   ]
  },
  {
   "cell_type": "code",
   "execution_count": 19,
   "id": "566879af-db26-4d3e-bf99-034a678a8cea",
   "metadata": {},
   "outputs": [],
   "source": [
    "review_template = \"\"\"\n",
    "For the following text, extract the following information:\n",
    "\n",
    "Company: Of which company the user bought the product of? \\\n",
    "Answer Name of the company if mentioned, else Not mentioned.\n",
    "\n",
    "experience: how was the user experience \\\n",
    "based on the review give experience such as good, bad, neutral.\n",
    "\n",
    "price: Extract price of product,\\\n",
    "provide the amount which the user bought the product for.\n",
    "\n",
    "supplier: from which place the user bought the product from,\\\n",
    "if name of the company is mentioned who sold the product mention that.\n",
    "\n",
    "overall: based on the user review how was the overview,\\\n",
    "if the user is satisfactory or not mention that.\n",
    "\n",
    "Format the output as JSON with the following keys:\n",
    "company\n",
    "experience\n",
    "price\n",
    "supplier\n",
    "overall\n",
    "\n",
    "text: {text} \\\n",
    "accept the data in json format i do not want any other thing in the response\\\n",
    "just the json.\"\"\""
   ]
  },
  {
   "cell_type": "code",
   "execution_count": 20,
   "id": "fbc5846e-bec2-404a-9ecb-58cd71cb962d",
   "metadata": {},
   "outputs": [],
   "source": [
    "prompt_template = ChatPromptTemplate.from_template(review_template)"
   ]
  },
  {
   "cell_type": "code",
   "execution_count": 21,
   "id": "ea8ada7f-8f25-4e0c-a930-d14ae9a7896a",
   "metadata": {},
   "outputs": [
    {
     "data": {
      "text/plain": [
       "HumanMessagePromptTemplate(prompt=PromptTemplate(input_variables=['text'], template='\\nFor the following text, extract the following information:\\n\\nCompany: Of which company the user bought the product of? Answer Name of the company if mentioned, else Not mentioned.\\n\\nexperience: how was the user experience based on the review give experience such as good, bad, neutral.\\n\\nprice: Extract price of product,provide the amount which the user bought the product for.\\n\\nsupplier: from which place the user bought the product from,if name of the company is mentioned who sold the product mention that.\\n\\noverall: based on the user review how was the overview,if the user is satisfactory or not mention that.\\n\\nFormat the output as JSON with the following keys:\\ncompany\\nexperience\\nprice\\nsupplier\\noverall\\n\\ntext: {text} accept the data in json format i do not want any other thing in the responsejust the json.'))"
      ]
     },
     "execution_count": 21,
     "metadata": {},
     "output_type": "execute_result"
    }
   ],
   "source": [
    "prompt_template.messages[0]"
   ]
  },
  {
   "cell_type": "code",
   "execution_count": 22,
   "id": "93c73a67-9e90-4e06-9718-f24a5c7cd458",
   "metadata": {},
   "outputs": [],
   "source": [
    "message = prompt_template.format_messages(\n",
    "    text = customer_review\n",
    ")"
   ]
  },
  {
   "cell_type": "code",
   "execution_count": 23,
   "id": "9c6643d1-9a98-4e06-88f8-e78b28f5e785",
   "metadata": {},
   "outputs": [
    {
     "data": {
      "text/plain": [
       "[HumanMessage(content='\\nFor the following text, extract the following information:\\n\\nCompany: Of which company the user bought the product of? Answer Name of the company if mentioned, else Not mentioned.\\n\\nexperience: how was the user experience based on the review give experience such as good, bad, neutral.\\n\\nprice: Extract price of product,provide the amount which the user bought the product for.\\n\\nsupplier: from which place the user bought the product from,if name of the company is mentioned who sold the product mention that.\\n\\noverall: based on the user review how was the overview,if the user is satisfactory or not mention that.\\n\\nFormat the output as JSON with the following keys:\\ncompany\\nexperience\\nprice\\nsupplier\\noverall\\n\\ntext: \\nI recently bought the Zebronics S3 Laptop for 23,700 rupees /\\nfor this price I got an I3 12th gen 1215U processor /\\n8 GB ddr4 ram 3200mhz /\\nits great for this price since i could have built the same thing as a pc for 30,000 rupees /\\ni will strongly recommend to buy it from flipkart since it is cheaper their compared to other places like amazon /\\nI am amazed with this laptop, thanks flipkart and zebronic for this deal\\n accept the data in json format i do not want any other thing in the responsejust the json.')]"
      ]
     },
     "execution_count": 23,
     "metadata": {},
     "output_type": "execute_result"
    }
   ],
   "source": [
    "message"
   ]
  },
  {
   "cell_type": "code",
   "execution_count": 24,
   "id": "30c71696-300a-41d6-9920-df52d8ab7173",
   "metadata": {},
   "outputs": [],
   "source": [
    "response = chat(message)"
   ]
  },
  {
   "cell_type": "code",
   "execution_count": 25,
   "id": "7997b502-75cf-40f2-a509-a4e0fd90edbf",
   "metadata": {},
   "outputs": [
    {
     "name": "stdout",
     "output_type": "stream",
     "text": [
      "Here is the extracted information in JSON format:\n",
      "\n",
      "{\n",
      "\"company\": \"Zebronics\",\n",
      "\"experience\": \"good\",\n",
      "\"price\": 23700,\n",
      "\"supplier\": \"Flipkart\",\n",
      "\"overall\": \"satisfactory\"\n",
      "}\n"
     ]
    }
   ],
   "source": [
    "print(response.content)"
   ]
  },
  {
   "cell_type": "code",
   "execution_count": 26,
   "id": "33a68343-3b44-4891-a922-296f3758b3a9",
   "metadata": {},
   "outputs": [
    {
     "data": {
      "text/plain": [
       "str"
      ]
     },
     "execution_count": 26,
     "metadata": {},
     "output_type": "execute_result"
    }
   ],
   "source": [
    "type(response.content)"
   ]
  },
  {
   "cell_type": "markdown",
   "id": "628be864-a6f7-441f-a33f-de37a853fa4f",
   "metadata": {},
   "source": [
    "## Parser"
   ]
  },
  {
   "cell_type": "code",
   "execution_count": 27,
   "id": "f9d650ae-65a2-4a29-80bc-145eb51a5111",
   "metadata": {},
   "outputs": [],
   "source": [
    "from langchain.output_parsers import ResponseSchema\n",
    "from langchain.output_parsers import StructuredOutputParser"
   ]
  },
  {
   "cell_type": "code",
   "execution_count": 28,
   "id": "7b3be55c-41a8-431e-a3fc-058f6ae84073",
   "metadata": {},
   "outputs": [
    {
     "data": {
      "text/plain": [
       "{'Company': 'Apple',\n",
       " 'experience': 'Good',\n",
       " 'Price': 'Expensive',\n",
       " 'Supplier': 'Amazon',\n",
       " 'overall': 'Amazing'}"
      ]
     },
     "execution_count": 28,
     "metadata": {},
     "output_type": "execute_result"
    }
   ],
   "source": [
    "{\n",
    "    'Company' : \"Apple\",\n",
    "    'experience' : \"Good\",\n",
    "    'Price' : \"Expensive\",\n",
    "    'Supplier' : \"Amazon\",\n",
    "    'overall' : \"Amazing\"\n",
    "}\n",
    "\n",
    "# Company: Of which company the user bought the product of? \\\n",
    "# Answer Name of the company if mentioned, else Not mentioned.\n",
    "\n",
    "# experience: how was the user experience \\\n",
    "# based on the review give experience such as good, bad, neutral.\n",
    "\n",
    "# price: Extract price of product,\\\n",
    "# provide the amount which the user bought the product for.\n",
    "\n",
    "# supplier: from which place the user bought the product from,\\\n",
    "# if name of the company is mentioned who sold the product mention that.\n",
    "\n",
    "# overall: based on the user review how was the overview,\\\n",
    "# if the user is satisfactory or not mention that."
   ]
  },
  {
   "cell_type": "code",
   "execution_count": 29,
   "id": "c0cd68e1-00ff-4095-ad50-9a9a4221f85c",
   "metadata": {},
   "outputs": [],
   "source": [
    "company_schema = ResponseSchema(name='Company',\n",
    "                               description= 'Of which company the user bought the product of? \\\n",
    " Answer Name of the company if mentioned, else Not mentioned.')\n",
    "\n",
    "experience_schema = ResponseSchema(name = 'experience',\n",
    "                                  description = 'how was the user experience \\\n",
    "based on the review give experience such as good, bad, neutral.')\n",
    "\n",
    "price_schema = ResponseSchema(name= 'price',\n",
    "                             description='Extract price of product,\\\n",
    " provide the amount which the user bought the product for.')\n",
    "\n",
    "supplier_schema = ResponseSchema(name = 'supplier',\n",
    "                                description='from which place the user bought the product from,\\\n",
    "if name of the company is mentioned who sold the product mention that.')\n",
    "\n",
    "overall_schema = ResponseSchema(name = 'overall',\n",
    "                               description= 'based on the user review how was the overview,\\\n",
    " if the user is satisfactory or not mention that.')"
   ]
  },
  {
   "cell_type": "code",
   "execution_count": 30,
   "id": "1d21de48-a473-41bf-a4f2-551c3ecb25fa",
   "metadata": {},
   "outputs": [],
   "source": [
    "response_schema = [company_schema, experience_schema, price_schema, supplier_schema, overall_schema]"
   ]
  },
  {
   "cell_type": "code",
   "execution_count": 31,
   "id": "b3da20db-4267-456c-a88e-a244bea3b430",
   "metadata": {},
   "outputs": [
    {
     "data": {
      "text/plain": [
       "[ResponseSchema(name='Company', description='Of which company the user bought the product of?  Answer Name of the company if mentioned, else Not mentioned.', type='string'),\n",
       " ResponseSchema(name='experience', description='how was the user experience based on the review give experience such as good, bad, neutral.', type='string'),\n",
       " ResponseSchema(name='price', description='Extract price of product, provide the amount which the user bought the product for.', type='string'),\n",
       " ResponseSchema(name='supplier', description='from which place the user bought the product from,if name of the company is mentioned who sold the product mention that.', type='string'),\n",
       " ResponseSchema(name='overall', description='based on the user review how was the overview, if the user is satisfactory or not mention that.', type='string')]"
      ]
     },
     "execution_count": 31,
     "metadata": {},
     "output_type": "execute_result"
    }
   ],
   "source": [
    "response_schema"
   ]
  },
  {
   "cell_type": "code",
   "execution_count": 32,
   "id": "18d8c422-3066-415d-9994-4f1b67e6803c",
   "metadata": {},
   "outputs": [],
   "source": [
    "output_parser = StructuredOutputParser.from_response_schemas(response_schema)"
   ]
  },
  {
   "cell_type": "code",
   "execution_count": 33,
   "id": "0e51ae30-6a0f-45ce-ac06-e514016d1198",
   "metadata": {},
   "outputs": [
    {
     "data": {
      "text/plain": [
       "StructuredOutputParser(response_schemas=[ResponseSchema(name='Company', description='Of which company the user bought the product of?  Answer Name of the company if mentioned, else Not mentioned.', type='string'), ResponseSchema(name='experience', description='how was the user experience based on the review give experience such as good, bad, neutral.', type='string'), ResponseSchema(name='price', description='Extract price of product, provide the amount which the user bought the product for.', type='string'), ResponseSchema(name='supplier', description='from which place the user bought the product from,if name of the company is mentioned who sold the product mention that.', type='string'), ResponseSchema(name='overall', description='based on the user review how was the overview, if the user is satisfactory or not mention that.', type='string')])"
      ]
     },
     "execution_count": 33,
     "metadata": {},
     "output_type": "execute_result"
    }
   ],
   "source": [
    "output_parser"
   ]
  },
  {
   "cell_type": "code",
   "execution_count": 34,
   "id": "2d10c357-de93-4416-b7e3-782f2dc00411",
   "metadata": {},
   "outputs": [],
   "source": [
    "format_instructions = output_parser.get_format_instructions()"
   ]
  },
  {
   "cell_type": "code",
   "execution_count": 54,
   "id": "3785f2b0-8b0e-4b42-9002-839562959fad",
   "metadata": {},
   "outputs": [
    {
     "name": "stdout",
     "output_type": "stream",
     "text": [
      "The output should be a markdown code snippet formatted in the following schema, including the leading and trailing \"```json\" and \"```\":\n",
      "\n",
      "```json\n",
      "{\n",
      "\t\"Company\": string  // Of which company the user bought the product of?  Answer Name of the company if mentioned, else Not mentioned.\n",
      "\t\"experience\": string  // how was the user experience based on the review give experience such as good, bad, neutral.\n",
      "\t\"price\": string  // Extract price of product, provide the amount which the user bought the product for.\n",
      "\t\"supplier\": string  // from which place the user bought the product from,if name of the company is mentioned who sold the product mention that.\n",
      "\t\"overall\": string  // based on the user review how was the overview, if the user is satisfactory or not mention that.\n",
      "}\n",
      "```\n"
     ]
    }
   ],
   "source": [
    "print(format_instructions)"
   ]
  },
  {
   "cell_type": "code",
   "execution_count": 55,
   "id": "9d314d6f-f836-45a1-bb7e-6daefb6bf60a",
   "metadata": {},
   "outputs": [],
   "source": [
    "customer_review2 = \"\"\"\n",
    "I recently bought the Apple Macbook M2 Air for 75,000 rupees /\n",
    "for this price I got an M2 Pro processor /\n",
    "32 GB ddr4 ram 6000mhz /\n",
    "it is worth it /\n",
    "i will strongly recommend to import it from united states since it is cheaper their compared to other places like amazon or flipkart /\n",
    "I am amazed with this laptop, thanks walmart and apple for this deal\n",
    "\"\"\""
   ]
  },
  {
   "cell_type": "code",
   "execution_count": 56,
   "id": "c32dc2e7-22b3-4c1b-98c5-1233469f56c5",
   "metadata": {},
   "outputs": [],
   "source": [
    "review_template_2 = \"\"\"\n",
    "For the following text, extract the following information:\n",
    "\n",
    "Company: Of which company the user bought the product of? \\\n",
    "Answer Name of the company if mentioned, else Not mentioned.\n",
    "\n",
    "experience: how was the user experience \\\n",
    "based on the review give experience such as good, bad, neutral.\n",
    "\n",
    "price: Extract price of product,\\\n",
    "provide the amount which the user bought the product for.\n",
    "\n",
    "supplier: from which place the user bought the product from,\\\n",
    "if name of the company is mentioned who sold the product mention that.\n",
    "\n",
    "overall: based on the user review how was the overview,\\\n",
    "if the user is satisfactory or not mention that.\n",
    "\n",
    "Format the output as JSON with the following keys:\n",
    "company\n",
    "experience\n",
    "price\n",
    "supplier\n",
    "overall\n",
    "\n",
    "text: {text} \\\n",
    "\n",
    "{format_instructions}\n",
    "\n",
    "\"\"\""
   ]
  },
  {
   "cell_type": "code",
   "execution_count": 58,
   "id": "b7cae354-7661-4342-a9cd-c9f5c59c6c2b",
   "metadata": {},
   "outputs": [],
   "source": [
    "prompt_template_2 = ChatPromptTemplate.from_template(template = review_template_2) "
   ]
  },
  {
   "cell_type": "code",
   "execution_count": 59,
   "id": "7bab9c68-56ba-4efd-bf0d-721093b45b8b",
   "metadata": {},
   "outputs": [
    {
     "data": {
      "text/plain": [
       "ChatPromptTemplate(input_variables=['format_instructions', 'text'], messages=[HumanMessagePromptTemplate(prompt=PromptTemplate(input_variables=['format_instructions', 'text'], template='\\nFor the following text, extract the following information:\\n\\nCompany: Of which company the user bought the product of? Answer Name of the company if mentioned, else Not mentioned.\\n\\nexperience: how was the user experience based on the review give experience such as good, bad, neutral.\\n\\nprice: Extract price of product,provide the amount which the user bought the product for.\\n\\nsupplier: from which place the user bought the product from,if name of the company is mentioned who sold the product mention that.\\n\\noverall: based on the user review how was the overview,if the user is satisfactory or not mention that.\\n\\nFormat the output as JSON with the following keys:\\ncompany\\nexperience\\nprice\\nsupplier\\noverall\\n\\ntext: {text} \\n{format_instructions}\\n\\n'))])"
      ]
     },
     "execution_count": 59,
     "metadata": {},
     "output_type": "execute_result"
    }
   ],
   "source": [
    "prompt_template_2"
   ]
  },
  {
   "cell_type": "code",
   "execution_count": 70,
   "id": "45f4a81d-f9fc-4e42-ab36-78919e619c8a",
   "metadata": {},
   "outputs": [],
   "source": [
    "message = prompt_template_2.format_messages(\n",
    "    text = customer_review2,\n",
    "    format_instructions = format_instructions\n",
    ")"
   ]
  },
  {
   "cell_type": "code",
   "execution_count": 71,
   "id": "361c24e8-2e96-45e6-85cf-d8ec69889d6c",
   "metadata": {},
   "outputs": [
    {
     "name": "stdout",
     "output_type": "stream",
     "text": [
      "\n",
      "For the following text, extract the following information:\n",
      "\n",
      "Company: Of which company the user bought the product of? Answer Name of the company if mentioned, else Not mentioned.\n",
      "\n",
      "experience: how was the user experience based on the review give experience such as good, bad, neutral.\n",
      "\n",
      "price: Extract price of product,provide the amount which the user bought the product for.\n",
      "\n",
      "supplier: from which place the user bought the product from,if name of the company is mentioned who sold the product mention that.\n",
      "\n",
      "overall: based on the user review how was the overview,if the user is satisfactory or not mention that.\n",
      "\n",
      "Format the output as JSON with the following keys:\n",
      "company\n",
      "experience\n",
      "price\n",
      "supplier\n",
      "overall\n",
      "\n",
      "text: \n",
      "I recently bought the Apple Macbook M2 Air for 75,000 rupees /\n",
      "for this price I got an M2 Pro processor /\n",
      "32 GB ddr4 ram 6000mhz /\n",
      "it is worth it /\n",
      "i will strongly recommend to import it from united states since it is cheaper their compared to other places like amazon or flipkart /\n",
      "I am amazed with this laptop, thanks walmart and apple for this deal\n",
      " \n",
      "The output should be a markdown code snippet formatted in the following schema, including the leading and trailing \"```json\" and \"```\":\n",
      "\n",
      "```json\n",
      "{\n",
      "\t\"Company\": string  // Of which company the user bought the product of?  Answer Name of the company if mentioned, else Not mentioned.\n",
      "\t\"experience\": string  // how was the user experience based on the review give experience such as good, bad, neutral.\n",
      "\t\"price\": string  // Extract price of product, provide the amount which the user bought the product for.\n",
      "\t\"supplier\": string  // from which place the user bought the product from,if name of the company is mentioned who sold the product mention that.\n",
      "\t\"overall\": string  // based on the user review how was the overview, if the user is satisfactory or not mention that.\n",
      "}\n",
      "```\n",
      "\n",
      "\n"
     ]
    }
   ],
   "source": [
    "print(message[0].content)"
   ]
  },
  {
   "cell_type": "code",
   "execution_count": 72,
   "id": "937dec6c-4a25-43bc-abe0-ea4b5cac7240",
   "metadata": {},
   "outputs": [],
   "source": [
    "response2 = chat(message)"
   ]
  },
  {
   "cell_type": "code",
   "execution_count": 74,
   "id": "583eb5ab-c9c3-4457-bead-17b9b6648a35",
   "metadata": {},
   "outputs": [
    {
     "name": "stdout",
     "output_type": "stream",
     "text": [
      "Here is the output in the required format:\n",
      "\n",
      "```json\n",
      "{\n",
      "  \"Company\": \"Apple\",\n",
      "  \"experience\": \"good\",\n",
      "  \"price\": \"75,000 rupees\",\n",
      "  \"supplier\": \"Walmart (imported from United States)\",\n",
      "  \"overall\": \"satisfactory\"\n",
      "}\n",
      "```\n",
      "\n",
      "Note: I assumed the company to be Apple since the user mentions \"Apple Macbook M2 Air\". The supplier is Walmart, which is mentioned in the text as the place from which the user imported the product. The overall experience is considered satisfactory since the user mentions that the laptop is \"worth it\" and that they will \"strongly recommend\" it.\n"
     ]
    }
   ],
   "source": [
    "print(response2.content)"
   ]
  },
  {
   "cell_type": "code",
   "execution_count": 75,
   "id": "997f4ffa-30a4-42e8-95d8-e0f879d6be35",
   "metadata": {},
   "outputs": [],
   "source": [
    "output_dict = output_parser.parse(response2.content)"
   ]
  },
  {
   "cell_type": "code",
   "execution_count": 76,
   "id": "e0c6f459-45bd-4c76-9855-b56363db57b6",
   "metadata": {},
   "outputs": [
    {
     "data": {
      "text/plain": [
       "{'Company': 'Apple',\n",
       " 'experience': 'good',\n",
       " 'price': '75,000 rupees',\n",
       " 'supplier': 'Walmart (imported from United States)',\n",
       " 'overall': 'satisfactory'}"
      ]
     },
     "execution_count": 76,
     "metadata": {},
     "output_type": "execute_result"
    }
   ],
   "source": [
    "output_dict"
   ]
  },
  {
   "cell_type": "code",
   "execution_count": 78,
   "id": "64aa2233-4a41-49d4-baeb-9c8a09a0f3ce",
   "metadata": {},
   "outputs": [
    {
     "data": {
      "text/plain": [
       "dict"
      ]
     },
     "execution_count": 78,
     "metadata": {},
     "output_type": "execute_result"
    }
   ],
   "source": [
    "type(output_dict)"
   ]
  },
  {
   "cell_type": "code",
   "execution_count": null,
   "id": "eda6c096-16f4-41ec-b73f-d6f9396aab32",
   "metadata": {},
   "outputs": [],
   "source": []
  }
 ],
 "metadata": {
  "kernelspec": {
   "display_name": "Python 3 (ipykernel)",
   "language": "python",
   "name": "python3"
  },
  "language_info": {
   "codemirror_mode": {
    "name": "ipython",
    "version": 3
   },
   "file_extension": ".py",
   "mimetype": "text/x-python",
   "name": "python",
   "nbconvert_exporter": "python",
   "pygments_lexer": "ipython3",
   "version": "3.12.4"
  }
 },
 "nbformat": 4,
 "nbformat_minor": 5
}
