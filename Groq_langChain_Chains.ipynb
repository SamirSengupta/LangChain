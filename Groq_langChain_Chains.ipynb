{
 "cells": [
  {
   "cell_type": "code",
   "execution_count": 1,
   "id": "ba9b05ad-76bc-4dcd-9508-bd73a1c74bc8",
   "metadata": {},
   "outputs": [],
   "source": [
    "import warnings\n",
    "warnings.filterwarnings('ignore')"
   ]
  },
  {
   "cell_type": "code",
   "execution_count": 2,
   "id": "e1531f5c-6d04-433d-ba56-515a59e51a6a",
   "metadata": {},
   "outputs": [],
   "source": [
    "from api_key import api"
   ]
  },
  {
   "cell_type": "code",
   "execution_count": 3,
   "id": "5d3a0eb4-8558-4227-87d4-b4d640bdb393",
   "metadata": {},
   "outputs": [],
   "source": [
    "from langchain_groq import ChatGroq"
   ]
  },
  {
   "cell_type": "code",
   "execution_count": 4,
   "id": "0bc249ea-b414-4a6b-aa1e-e624f9d02d2c",
   "metadata": {},
   "outputs": [],
   "source": [
    "from langchain.prompts import ChatPromptTemplate"
   ]
  },
  {
   "cell_type": "code",
   "execution_count": 5,
   "id": "c7e2aa12-2144-4d2f-8036-dc3a62d1b7f6",
   "metadata": {},
   "outputs": [],
   "source": [
    "chat = ChatGroq(model='llama3-8b-8192', temperature=0.8, api_key= api)"
   ]
  },
  {
   "cell_type": "code",
   "execution_count": 6,
   "id": "dd28dbc0-32d0-4905-a3ec-3e278bd6a235",
   "metadata": {},
   "outputs": [],
   "source": [
    "import pandas as pd"
   ]
  },
  {
   "cell_type": "code",
   "execution_count": 7,
   "id": "6b5b9c90-b0a7-436d-99d9-30cdac68a3ca",
   "metadata": {},
   "outputs": [],
   "source": [
    "df = pd.read_csv('product_reviews.csv')"
   ]
  },
  {
   "cell_type": "code",
   "execution_count": 8,
   "id": "1ca4624b-a41a-4dc5-9c47-8df73821e2c8",
   "metadata": {},
   "outputs": [
    {
     "data": {
      "text/html": [
       "<div>\n",
       "<style scoped>\n",
       "    .dataframe tbody tr th:only-of-type {\n",
       "        vertical-align: middle;\n",
       "    }\n",
       "\n",
       "    .dataframe tbody tr th {\n",
       "        vertical-align: top;\n",
       "    }\n",
       "\n",
       "    .dataframe thead th {\n",
       "        text-align: right;\n",
       "    }\n",
       "</style>\n",
       "<table border=\"1\" class=\"dataframe\">\n",
       "  <thead>\n",
       "    <tr style=\"text-align: right;\">\n",
       "      <th></th>\n",
       "      <th>Product</th>\n",
       "      <th>Review</th>\n",
       "    </tr>\n",
       "  </thead>\n",
       "  <tbody>\n",
       "    <tr>\n",
       "      <th>0</th>\n",
       "      <td>Eosfera 3000</td>\n",
       "      <td>A versatile gadget with endless possibilities.</td>\n",
       "    </tr>\n",
       "    <tr>\n",
       "      <th>1</th>\n",
       "      <td>Chocolat du Ciel</td>\n",
       "      <td>Délicieux, un goût céleste dans chaque bouchée.</td>\n",
       "    </tr>\n",
       "    <tr>\n",
       "      <th>2</th>\n",
       "      <td>Blitzkerne</td>\n",
       "      <td>Ein technologisches Meisterwerk, das seinesgle...</td>\n",
       "    </tr>\n",
       "    <tr>\n",
       "      <th>3</th>\n",
       "      <td>Solana Amarilla</td>\n",
       "      <td>Un producto vibrante, lleno de energía y vital...</td>\n",
       "    </tr>\n",
       "    <tr>\n",
       "      <th>4</th>\n",
       "      <td>Vitae Tinctura</td>\n",
       "      <td>Un elixir revitalizans.</td>\n",
       "    </tr>\n",
       "  </tbody>\n",
       "</table>\n",
       "</div>"
      ],
      "text/plain": [
       "            Product                                             Review\n",
       "0      Eosfera 3000     A versatile gadget with endless possibilities.\n",
       "1  Chocolat du Ciel    Délicieux, un goût céleste dans chaque bouchée.\n",
       "2        Blitzkerne  Ein technologisches Meisterwerk, das seinesgle...\n",
       "3   Solana Amarilla  Un producto vibrante, lleno de energía y vital...\n",
       "4    Vitae Tinctura                            Un elixir revitalizans."
      ]
     },
     "execution_count": 8,
     "metadata": {},
     "output_type": "execute_result"
    }
   ],
   "source": [
    "df.head()"
   ]
  },
  {
   "cell_type": "code",
   "execution_count": 9,
   "id": "896986a9-ab2e-48bc-9d8c-171b911e9474",
   "metadata": {},
   "outputs": [],
   "source": [
    "from langchain.chains import LLMChain"
   ]
  },
  {
   "cell_type": "code",
   "execution_count": 10,
   "id": "9488c34f-9e0e-44de-acef-0f5b838816a0",
   "metadata": {},
   "outputs": [],
   "source": [
    "prompt = ChatPromptTemplate.from_template(\n",
    "    \"What is the best name to describe \\\n",
    "    a company that makes {product}? \\\n",
    "    I do not want any special characters \"\n",
    ")"
   ]
  },
  {
   "cell_type": "code",
   "execution_count": 11,
   "id": "1cf3763a-c133-4699-b0c0-f76aaf8d8bcc",
   "metadata": {},
   "outputs": [],
   "source": [
    "product = 'Blitzkerne'"
   ]
  },
  {
   "cell_type": "code",
   "execution_count": 12,
   "id": "ae825b1f-dd8e-4ee5-9dee-4779d943d991",
   "metadata": {},
   "outputs": [
    {
     "name": "stderr",
     "output_type": "stream",
     "text": [
      "D:\\Python\\Lib\\site-packages\\langchain_core\\_api\\deprecation.py:139: LangChainDeprecationWarning: The class `LLMChain` was deprecated in LangChain 0.1.17 and will be removed in 1.0. Use RunnableSequence, e.g., `prompt | llm` instead.\n",
      "  warn_deprecated(\n"
     ]
    }
   ],
   "source": [
    "chain = LLMChain(llm=chat, prompt=prompt)"
   ]
  },
  {
   "cell_type": "code",
   "execution_count": 13,
   "id": "f39cd8b9-e610-40d3-ba8c-bc75bf5e9840",
   "metadata": {},
   "outputs": [
    {
     "name": "stderr",
     "output_type": "stream",
     "text": [
      "D:\\Python\\Lib\\site-packages\\langchain_core\\_api\\deprecation.py:139: LangChainDeprecationWarning: The method `Chain.run` was deprecated in langchain 0.1.0 and will be removed in 0.3.0. Use invoke instead.\n",
      "  warn_deprecated(\n"
     ]
    },
    {
     "name": "stdout",
     "output_type": "stream",
     "text": [
      "Blitzkrieger is a type of German short-range, high-velocity cannon that was used during World War II. Here are some company name suggestions that do not use special characters:\n",
      "\n",
      "1. Kriger Cannon Co.\n",
      "2. Battleforce Industries\n",
      "3. Panzer Precision\n",
      "4. Warhorse Armaments\n",
      "5. Ironclad Firearms\n",
      "6. Cannoncraft Co.\n",
      "7. Siegfried Armory\n",
      "8. Cannonball Corporation\n",
      "9. Shieldmaker Industries\n",
      "10. Thunderbolt Technologies\n",
      "\n",
      "Keep in mind that some of these names may evoke historical or cultural associations that you may not be comfortable with. You may want to consider names that are more neutral or focus on the company's values and mission rather than its products.\n"
     ]
    }
   ],
   "source": [
    "print(chain.run(product))"
   ]
  },
  {
   "cell_type": "markdown",
   "id": "5233cb91-21b7-471d-9883-16b4cecdf62d",
   "metadata": {},
   "source": [
    "## SimpleSequentialChain"
   ]
  },
  {
   "cell_type": "code",
   "execution_count": 14,
   "id": "b5140550-e634-447c-a283-b7f4c0aaed32",
   "metadata": {},
   "outputs": [],
   "source": [
    "from langchain.chains import SimpleSequentialChain"
   ]
  },
  {
   "cell_type": "code",
   "execution_count": 15,
   "id": "ddd23f82-181a-43ae-8c80-94f8729ad69e",
   "metadata": {},
   "outputs": [],
   "source": [
    "chat = ChatGroq(temperature= 0.9, model='llama3-8b-8192', api_key= api)"
   ]
  },
  {
   "cell_type": "code",
   "execution_count": 16,
   "id": "a794f8c3-973a-4564-8aad-69a90dab4e40",
   "metadata": {},
   "outputs": [],
   "source": [
    "first_prompt = ChatPromptTemplate.from_template(\n",
    "    'What is the best name to describe \\\n",
    "    a company that makes {product}?'\n",
    ")\n",
    "chain_one = LLMChain(llm=chat, prompt=first_prompt)"
   ]
  },
  {
   "cell_type": "code",
   "execution_count": 17,
   "id": "cf208f08-617e-448a-8aaf-41ce0f6557f4",
   "metadata": {},
   "outputs": [],
   "source": [
    "second_prompt = ChatPromptTemplate.from_template(\n",
    "    \"Write a 20 words description for the following \\\n",
    "    company:{company_name}\"\n",
    ")\n",
    "\n",
    "chain_two = LLMChain(llm = chat, prompt= second_prompt)"
   ]
  },
  {
   "cell_type": "code",
   "execution_count": 18,
   "id": "63f96f3d-2e1a-4e0f-95c8-d5e709d64253",
   "metadata": {},
   "outputs": [],
   "source": [
    "over_all_chain = SimpleSequentialChain(chains=[chain_one, chain_two], verbose=True)"
   ]
  },
  {
   "cell_type": "code",
   "execution_count": 19,
   "id": "137167a2-7751-46cf-8372-a1192d79ea0c",
   "metadata": {},
   "outputs": [
    {
     "name": "stdout",
     "output_type": "stream",
     "text": [
      "\n",
      "\n",
      "\u001b[1m> Entering new SimpleSequentialChain chain...\u001b[0m\n",
      "\u001b[36;1m\u001b[1;3mVitae Tinctura is a type of herbal extract, often used in traditional medicine and wellness products. Based on the type of product, here are some company name suggestions that might fit:\n",
      "\n",
      "1. Herbalux - A combination of \"herbal\" and \"lux,\" implying a high-end, premium product.\n",
      "2. Vitasphere - Derived from \"vita\" (life) and \"sphere,\" suggesting a comprehensive approach to health and wellness.\n",
      "3. Botanicura - A play on \"curare\" (Latin for \"to heal\") and \"botanic,\" emphasizing the natural, plant-based ingredients.\n",
      "4. Essence & Co. - \"Essence\" conveys the idea of concentrated, potent extracts, while \"Co.\" suggests a company that values quality and expertise.\n",
      "5. Verdant Vitality - \"Verdant\" means lush and green, evoking images of natural, thriving herbs, while \"Vitality\" emphasizes the energizing and rejuvenating benefits of the products.\n",
      "6. Phytofarm - \"Phyto\" refers to plant-based extracts, while \"farm\" implies a connection to natural, sustainable practices.\n",
      "7. LifeLeaf - A simple, memorable name that combines \"life\" with \"leaf,\" emphasizing the connection to nature and the idea of health and wellness.\n",
      "\n",
      "Choose the one that resonates with your brand identity, values, and target audience.\u001b[0m\n",
      "\u001b[33;1m\u001b[1;3mHere is a 20-word description for Vitae Tinctura:\n",
      "\n",
      "\"Vitae Tinctura crafts premium, plant-based extracts for wellness and traditional medicine, emphasizing quality, sustainability, and expert knowledge in natural healing.\"\u001b[0m\n",
      "\n",
      "\u001b[1m> Finished chain.\u001b[0m\n"
     ]
    },
    {
     "data": {
      "text/plain": [
       "'Here is a 20-word description for Vitae Tinctura:\\n\\n\"Vitae Tinctura crafts premium, plant-based extracts for wellness and traditional medicine, emphasizing quality, sustainability, and expert knowledge in natural healing.\"'"
      ]
     },
     "execution_count": 19,
     "metadata": {},
     "output_type": "execute_result"
    }
   ],
   "source": [
    "over_all_chain.run(df.Product[4])"
   ]
  },
  {
   "cell_type": "markdown",
   "id": "94f02117-5793-418d-9f94-0e155c6cffb1",
   "metadata": {},
   "source": [
    "## SequentialChain"
   ]
  },
  {
   "cell_type": "code",
   "execution_count": 21,
   "id": "10fc4f93-81f8-43a9-9154-174ed812efe5",
   "metadata": {},
   "outputs": [],
   "source": [
    "from langchain.chains import LLMChain"
   ]
  },
  {
   "cell_type": "code",
   "execution_count": 22,
   "id": "df1ab479-aeac-44eb-b8c3-e43ccc697f67",
   "metadata": {},
   "outputs": [],
   "source": [
    "from langchain.chains import SequentialChain"
   ]
  },
  {
   "cell_type": "code",
   "execution_count": 24,
   "id": "06114931-0f91-4ebe-8c50-5e923bfde574",
   "metadata": {},
   "outputs": [],
   "source": [
    "first_prompt = ChatPromptTemplate.from_template(\n",
    "    'translate the review into english: \\\n",
    "    {Review}'\n",
    ")\n",
    "\n",
    "first_chain = LLMChain(llm=chain, prompt= first_prompt, output_key= 'english_review')"
   ]
  },
  {
   "cell_type": "code",
   "execution_count": 27,
   "id": "40ebba44-0b5a-4770-88be-5d28ae028d35",
   "metadata": {},
   "outputs": [],
   "source": [
    "second_prompt = ChatPromptTemplate.from_template(\n",
    "    'summarize the review in one sentence: \\\n",
    "    {english_review}'\n",
    ")\n",
    "\n",
    "second_chain = LLMChain(llm=chain, prompt= second_prompt, output_key= 'summarize_review')"
   ]
  },
  {
   "cell_type": "code",
   "execution_count": 30,
   "id": "fbfc1196-b9b2-4a10-acfe-834d590da246",
   "metadata": {},
   "outputs": [],
   "source": [
    "third_prompt = ChatPromptTemplate.from_template(\n",
    "    'what language the review is written in: \\\n",
    "    {Review}'\n",
    ")\n",
    "\n",
    "third_chain = LLMChain(llm=chain, prompt= third_prompt, output_key= 'review_language')"
   ]
  },
  {
   "cell_type": "code",
   "execution_count": 31,
   "id": "babe33a5-3f1d-4656-9696-5b707523d066",
   "metadata": {},
   "outputs": [],
   "source": [
    "overall_chain = SequentialChain(\n",
    "    chains= [first_chain, second_chain, third_chain],\n",
    "    input_variables= ['Review'],\n",
    "    output_variables= ['english_review', 'summarize_review', 'review_language'],\n",
    "     verbose= True\n",
    "), "
   ]
  },
  {
   "cell_type": "code",
   "execution_count": 44,
   "id": "b90d6eb8-ce7b-4147-a34e-096763b57a84",
   "metadata": {},
   "outputs": [],
   "source": [
    "w  = df['Review'][2]"
   ]
  },
  {
   "cell_type": "code",
   "execution_count": 45,
   "id": "147f57be-095b-4a50-bae5-bdd707b2fcb8",
   "metadata": {},
   "outputs": [
    {
     "data": {
      "text/plain": [
       "'Ein technologisches Meisterwerk, das seinesgleichen sucht.'"
      ]
     },
     "execution_count": 45,
     "metadata": {},
     "output_type": "execute_result"
    }
   ],
   "source": [
    "w"
   ]
  },
  {
   "cell_type": "code",
   "execution_count": 46,
   "id": "a2f8e360-6503-431f-95f9-18d2cb645105",
   "metadata": {},
   "outputs": [
    {
     "name": "stderr",
     "output_type": "stream",
     "text": [
      "D:\\Python\\Lib\\site-packages\\langchain_core\\_api\\deprecation.py:139: LangChainDeprecationWarning: The method `Chain.__call__` was deprecated in langchain 0.1.0 and will be removed in 0.3.0. Use invoke instead.\n",
      "  warn_deprecated(\n"
     ]
    },
    {
     "name": "stdout",
     "output_type": "stream",
     "text": [
      "\n",
      "\n",
      "\u001b[1m> Entering new SimpleSequentialChain chain...\u001b[0m\n",
      "\u001b[36;1m\u001b[1;3mA company that creates a masterpiece of technology, without equal!\n",
      "\n",
      "Here are some name suggestions that might fit the bill:\n",
      "\n",
      "1. **NovumTech**: \"Novum\" means \"new\" in Latin, implying innovation and something groundbreaking. \"Tech\" adds a modern touch.\n",
      "2. **Paragon Innovations**: \"Paragon\" means a model of excellence, while \"Innovations\" highlights the company's focus on creating something unique.\n",
      "3. **Magnum Opus Technologies**: \"Magnum Opus\" is Latin for \"great work,\" implying a masterpiece. Adding \"Technologies\" makes it clear what the company does.\n",
      "4. **Eclipse Engineering**: \"Eclipse\" suggests something that surpasses others, while \"Engineering\" is a key aspect of the company's work.\n",
      "5. **Masterworks Technologies**: \"Masterworks\" explicitly references the idea of creating something exceptional, while \"Technologies\" provides context.\n",
      "6. **Apex Innovations**: \"Apex\" implies the highest level of achievement, while \"Innovations\" emphasizes the company's focus on creating something new.\n",
      "7. **GeniusLab**: \"GeniusLab\" is a playful name that suggests a company that creates innovative, groundbreaking solutions.\n",
      "8. **Colossus Tech**: \"Colossus\" implies something massive or extraordinary, while \"Tech\" adds a modern touch.\n",
      "9. **Crown Technology**: \"Crown\" suggests the idea of a pinnacle or a peak, implying that the company's work is exceptional.\n",
      "10. **Zeitgeist Tech**: \"Zeitgeist\" is a German word that means \"the spirit of the times,\" implying that the company is ahead of its time.\n",
      "\n",
      "Choose the one that resonates with your vision and values!\u001b[0m\n",
      "\u001b[33;1m\u001b[1;3mHere is a 20-word description for the company:\n",
      "\n",
      "\"NovumTech: masterful creators of innovative technology, pushing boundaries to craft unparalleled solutions, redefining industries and shaping the future.\"\u001b[0m\n",
      "\n",
      "\u001b[1m> Finished chain.\u001b[0m\n"
     ]
    },
    {
     "data": {
      "text/plain": [
       "{'input': 'Ein technologisches Meisterwerk, das seinesgleichen sucht.',\n",
       " 'output': 'Here is a 20-word description for the company:\\n\\n\"NovumTech: masterful creators of innovative technology, pushing boundaries to craft unparalleled solutions, redefining industries and shaping the future.\"'}"
      ]
     },
     "execution_count": 46,
     "metadata": {},
     "output_type": "execute_result"
    }
   ],
   "source": [
    "over_all_chain(w)"
   ]
  },
  {
   "cell_type": "code",
   "execution_count": 48,
   "id": "1e6d5912-66e1-40c9-91a0-6eca5ab79966",
   "metadata": {},
   "outputs": [
    {
     "data": {
      "text/html": [
       "<div>\n",
       "<style scoped>\n",
       "    .dataframe tbody tr th:only-of-type {\n",
       "        vertical-align: middle;\n",
       "    }\n",
       "\n",
       "    .dataframe tbody tr th {\n",
       "        vertical-align: top;\n",
       "    }\n",
       "\n",
       "    .dataframe thead th {\n",
       "        text-align: right;\n",
       "    }\n",
       "</style>\n",
       "<table border=\"1\" class=\"dataframe\">\n",
       "  <thead>\n",
       "    <tr style=\"text-align: right;\">\n",
       "      <th></th>\n",
       "      <th>Product</th>\n",
       "      <th>Review</th>\n",
       "    </tr>\n",
       "  </thead>\n",
       "  <tbody>\n",
       "    <tr>\n",
       "      <th>0</th>\n",
       "      <td>Eosfera 3000</td>\n",
       "      <td>A versatile gadget with endless possibilities.</td>\n",
       "    </tr>\n",
       "    <tr>\n",
       "      <th>1</th>\n",
       "      <td>Chocolat du Ciel</td>\n",
       "      <td>Délicieux, un goût céleste dans chaque bouchée.</td>\n",
       "    </tr>\n",
       "    <tr>\n",
       "      <th>2</th>\n",
       "      <td>Blitzkerne</td>\n",
       "      <td>Ein technologisches Meisterwerk, das seinesgle...</td>\n",
       "    </tr>\n",
       "    <tr>\n",
       "      <th>3</th>\n",
       "      <td>Solana Amarilla</td>\n",
       "      <td>Un producto vibrante, lleno de energía y vital...</td>\n",
       "    </tr>\n",
       "    <tr>\n",
       "      <th>4</th>\n",
       "      <td>Vitae Tinctura</td>\n",
       "      <td>Un elixir revitalizans.</td>\n",
       "    </tr>\n",
       "  </tbody>\n",
       "</table>\n",
       "</div>"
      ],
      "text/plain": [
       "            Product                                             Review\n",
       "0      Eosfera 3000     A versatile gadget with endless possibilities.\n",
       "1  Chocolat du Ciel    Délicieux, un goût céleste dans chaque bouchée.\n",
       "2        Blitzkerne  Ein technologisches Meisterwerk, das seinesgle...\n",
       "3   Solana Amarilla  Un producto vibrante, lleno de energía y vital...\n",
       "4    Vitae Tinctura                            Un elixir revitalizans."
      ]
     },
     "execution_count": 48,
     "metadata": {},
     "output_type": "execute_result"
    }
   ],
   "source": [
    "df.head()"
   ]
  },
  {
   "cell_type": "code",
   "execution_count": null,
   "id": "e7dafa55-12f6-46bf-8479-108adbcedb4c",
   "metadata": {},
   "outputs": [],
   "source": []
  }
 ],
 "metadata": {
  "kernelspec": {
   "display_name": "Python 3 (ipykernel)",
   "language": "python",
   "name": "python3"
  },
  "language_info": {
   "codemirror_mode": {
    "name": "ipython",
    "version": 3
   },
   "file_extension": ".py",
   "mimetype": "text/x-python",
   "name": "python",
   "nbconvert_exporter": "python",
   "pygments_lexer": "ipython3",
   "version": "3.12.4"
  }
 },
 "nbformat": 4,
 "nbformat_minor": 5
}
